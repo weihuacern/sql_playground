{
 "cells": [
  {
   "cell_type": "code",
   "execution_count": 1,
   "metadata": {},
   "outputs": [],
   "source": [
    "import decimal\n",
    "import datetime\n",
    "import json\n",
    "import pymysql"
   ]
  },
  {
   "cell_type": "code",
   "execution_count": 2,
   "metadata": {},
   "outputs": [],
   "source": [
    "MYSQL_HOST_IP = \"127.0.0.1\"\n",
    "MYSQL_USERNAME = 'root'\n",
    "MYSQL_PASSWORD = 'TestSQLPassword789'"
   ]
  },
  {
   "cell_type": "code",
   "execution_count": 3,
   "metadata": {},
   "outputs": [],
   "source": [
    "class SQLJSONEncoder(json.JSONEncoder):\n",
    "    def default(self, obj):\n",
    "        if isinstance(obj, decimal.Decimal):\n",
    "            return float(obj)\n",
    "        if isinstance(obj, (datetime.datetime, datetime.date)):\n",
    "            return obj.isoformat()\n",
    "        return super(SQLJSONEncoder, self).default(obj)\n",
    "\n",
    "def execute_sql_cmd(sql_query):\n",
    "    \"\"\"\n",
    "    Input:\n",
    "        sql_query: SQL query, for example, SELECT a, b FROM table WHERE c=c1\n",
    "    \"\"\"\n",
    "    # Connect to the database\n",
    "    conn = pymysql.connect(\n",
    "        host=MYSQL_HOST_IP,\n",
    "        user=MYSQL_USERNAME,\n",
    "        password=MYSQL_PASSWORD,\n",
    "        cursorclass=pymysql.cursors.DictCursor\n",
    "    )\n",
    "    try:\n",
    "        with conn.cursor() as cursor:\n",
    "            cursor.execute(sql_query)\n",
    "            result = cursor.fetchall()\n",
    "            if result is not None:\n",
    "                print(json.dumps(result, cls=SQLJSONEncoder, indent=4))\n",
    "        conn.commit()\n",
    "    except Exception as e:\n",
    "        print(f\"SQL Command: [{sql_query}]; Error: {e}\")\n",
    "    finally:\n",
    "        conn.close()"
   ]
  },
  {
   "cell_type": "markdown",
   "metadata": {},
   "source": [
    "## DDL\n",
    "### DDL: Prepare database and tables"
   ]
  },
  {
   "cell_type": "code",
   "execution_count": 4,
   "metadata": {},
   "outputs": [],
   "source": [
    "ddl_cmd_list = [\n",
    "    \"CREATE DATABASE IF NOT EXISTS sql_exercises;\",\n",
    "    \"CREATE TABLE IF NOT EXISTS sql_exercises.Student (`S#` VARCHAR(10), `Sname` VARCHAR(50), `Sage` DATE, `Ssex` VARCHAR(10), PRIMARY KEY (`S#`));\",\n",
    "    \"CREATE TABLE IF NOT EXISTS sql_exercises.Course(`C#` VARCHAR(10), `Cname` VARCHAR(50), `T#` VARCHAR(10), PRIMARY KEY (`C#`));\",    \n",
    "    \"CREATE TABLE IF NOT EXISTS sql_exercises.Teacher(`T#` VARCHAR(10), `Tname` VARCHAR(50), PRIMARY KEY (`T#`));\",\n",
    "    \"CREATE TABLE IF NOT EXISTS sql_exercises.SC(`S#` VARCHAR(10), `C#` VARCHAR(10), score DECIMAL(18,1), PRIMARY KEY (`S#`, `C#`));\",\n",
    "]"
   ]
  },
  {
   "cell_type": "code",
   "execution_count": 5,
   "metadata": {
    "scrolled": false
   },
   "outputs": [
    {
     "name": "stdout",
     "output_type": "stream",
     "text": [
      "[]\n",
      "[]\n",
      "[]\n",
      "[]\n",
      "[]\n"
     ]
    },
    {
     "name": "stderr",
     "output_type": "stream",
     "text": [
      "/home/huawei/.local/lib/python3.6/site-packages/pymysql/cursors.py:329: Warning: (1007, \"Can't create database 'sql_exercises'; database exists\")\n",
      "  self._do_get_result()\n"
     ]
    },
    {
     "data": {
      "text/plain": [
       "[None, None, None, None, None]"
      ]
     },
     "execution_count": 5,
     "metadata": {},
     "output_type": "execute_result"
    }
   ],
   "source": [
    "[execute_sql_cmd(ddl_cmd) for ddl_cmd in ddl_cmd_list]"
   ]
  },
  {
   "cell_type": "markdown",
   "metadata": {},
   "source": [
    "### DDL: Remove tables or database in case of schema change "
   ]
  },
  {
   "cell_type": "code",
   "execution_count": 6,
   "metadata": {},
   "outputs": [],
   "source": [
    "#ddl_cmd_list = [\n",
    "#    \"DROP TABLE IF EXISTS sql_exercises.Student, sql_exercises.Course, sql_exercises.Teacher, sql_exercises.SC;\",\n",
    "#    #\"CREATE DATABASE IF EXISTS sql_exercises;\",\n",
    "#]"
   ]
  },
  {
   "cell_type": "code",
   "execution_count": 7,
   "metadata": {},
   "outputs": [],
   "source": [
    "#[execute_sql_cmd(ddl_cmd) for ddl_cmd in ddl_cmd_list]"
   ]
  },
  {
   "cell_type": "markdown",
   "metadata": {},
   "source": [
    "### DML: Insert entries"
   ]
  },
  {
   "cell_type": "code",
   "execution_count": 8,
   "metadata": {},
   "outputs": [],
   "source": [
    "dml_cmd_list = [\n",
    "    # data for student table\n",
    "    \"INSERT INTO sql_exercises.Student values('01', 'Rosie Nicholson', '1991-11-01', 'F');\",\n",
    "    \"INSERT INTO sql_exercises.Student values('02', 'Kyle Cooper', '1993-02-28', 'M');\",\n",
    "    \"INSERT INTO sql_exercises.Student values('03', 'Will Joyner', '1991-05-20', 'M');\",\n",
    "    \"INSERT INTO sql_exercises.Student values('04', 'Warren Mccarthy', '1992-08-28', 'M');\",\n",
    "    \"INSERT INTO sql_exercises.Student values('05', 'Ben Barnes', '1993-12-01', 'M');\",\n",
    "    \"INSERT INTO sql_exercises.Student values('06', 'Deborah Long', '1992-03-01', 'F');\",\n",
    "    \"INSERT INTO sql_exercises.Student values('07', 'Jackson Burke', '1992-04-11', 'M');\",\n",
    "    \"INSERT INTO sql_exercises.Student values('08', 'Xander Randall', '1990-11-13', 'M');\",\n",
    "    # data for Course table\n",
    "    \"INSERT INTO sql_exercises.Course values('01', 'General Physics', '02');\",\n",
    "    \"INSERT INTO sql_exercises.Course values('02', 'Condensed Matter Physics', '01');\",\n",
    "    \"INSERT INTO sql_exercises.Course values('03', 'Particle Physics', '03');\",\n",
    "    # data for Teacher table,\n",
    "    \"INSERT INTO sql_exercises.Teacher values('01', 'Lev Landau');\",\n",
    "    \"INSERT INTO sql_exercises.Teacher values('02', 'Richard Feynman');\",\n",
    "    \"INSERT INTO sql_exercises.Teacher values('03', 'Nishina, Yoshio');\",\n",
    "    # data for SC table,\n",
    "    \"INSERT INTO sql_exercises.SC values('01', '01', 80);\",\n",
    "    \"INSERT INTO sql_exercises.SC values('01', '02', 90);\",\n",
    "    \"INSERT INTO sql_exercises.SC values('01', '03', 99);\",\n",
    "    \"INSERT INTO sql_exercises.SC values('02', '01', 70);\",\n",
    "    \"INSERT INTO sql_exercises.SC values('02', '02', 60);\",\n",
    "    \"INSERT INTO sql_exercises.SC values('02', '03', 80);\",\n",
    "    \"INSERT INTO sql_exercises.SC values('03', '01', 80);\",\n",
    "    \"INSERT INTO sql_exercises.SC values('03', '02', 80);\",\n",
    "    \"INSERT INTO sql_exercises.SC values('03', '03', 80);\",\n",
    "    \"INSERT INTO sql_exercises.SC values('04', '01', 50);\",\n",
    "    \"INSERT INTO sql_exercises.SC values('04', '02', 30);\",\n",
    "    \"INSERT INTO sql_exercises.SC values('04', '03', 20);\",\n",
    "    \"INSERT INTO sql_exercises.SC values('05', '01', 76);\",\n",
    "    \"INSERT INTO sql_exercises.SC values('05', '02', 87);\",\n",
    "    \"INSERT INTO sql_exercises.SC values('06', '01', 31);\",\n",
    "    \"INSERT INTO sql_exercises.SC values('06', '03', 34);\",\n",
    "    \"INSERT INTO sql_exercises.SC values('07', '02', 89);\",\n",
    "    \"INSERT INTO sql_exercises.SC values('07', '03', 98);\",\n",
    "]"
   ]
  },
  {
   "cell_type": "code",
   "execution_count": 9,
   "metadata": {},
   "outputs": [
    {
     "name": "stdout",
     "output_type": "stream",
     "text": [
      "[]\n",
      "[]\n",
      "[]\n",
      "[]\n",
      "[]\n",
      "[]\n",
      "[]\n",
      "[]\n",
      "[]\n",
      "[]\n",
      "[]\n",
      "[]\n",
      "[]\n",
      "[]\n",
      "[]\n",
      "[]\n",
      "[]\n",
      "[]\n",
      "[]\n",
      "[]\n",
      "[]\n",
      "[]\n",
      "[]\n",
      "[]\n",
      "[]\n",
      "[]\n",
      "[]\n",
      "[]\n",
      "[]\n",
      "[]\n",
      "[]\n",
      "[]\n"
     ]
    },
    {
     "data": {
      "text/plain": [
       "[None,\n",
       " None,\n",
       " None,\n",
       " None,\n",
       " None,\n",
       " None,\n",
       " None,\n",
       " None,\n",
       " None,\n",
       " None,\n",
       " None,\n",
       " None,\n",
       " None,\n",
       " None,\n",
       " None,\n",
       " None,\n",
       " None,\n",
       " None,\n",
       " None,\n",
       " None,\n",
       " None,\n",
       " None,\n",
       " None,\n",
       " None,\n",
       " None,\n",
       " None,\n",
       " None,\n",
       " None,\n",
       " None,\n",
       " None,\n",
       " None,\n",
       " None]"
      ]
     },
     "execution_count": 9,
     "metadata": {},
     "output_type": "execute_result"
    }
   ],
   "source": [
    "[execute_sql_cmd(dml_cmd) for dml_cmd in dml_cmd_list]"
   ]
  },
  {
   "cell_type": "markdown",
   "metadata": {},
   "source": [
    "### DQL: Select data"
   ]
  },
  {
   "cell_type": "markdown",
   "metadata": {},
   "source": [
    "#### Q1.1: Get the S#, C#, and corresponding courses' scores if the student 01's course score is higher than 02's."
   ]
  },
  {
   "cell_type": "code",
   "execution_count": 10,
   "metadata": {},
   "outputs": [],
   "source": [
    "dql_cmd = (\n",
    "\"SELECT A.*, B.`C#`, B.score FROM \\\n",
    "(SELECT * FROM sql_exercises.SC WHERE `C#`='01') AS A INNER JOIN \\\n",
    "(SELECT * FROM sql_exercises.SC WHERE `C#`='02') AS B ON A.`S#`=B.`S#` \\\n",
    "WHERE A.score > B.score;\"\n",
    ")"
   ]
  },
  {
   "cell_type": "code",
   "execution_count": 11,
   "metadata": {
    "scrolled": true
   },
   "outputs": [
    {
     "name": "stdout",
     "output_type": "stream",
     "text": [
      "[\n",
      "    {\n",
      "        \"S#\": \"02\",\n",
      "        \"C#\": \"01\",\n",
      "        \"score\": 70.0,\n",
      "        \"B.C#\": \"02\",\n",
      "        \"B.score\": 60.0\n",
      "    },\n",
      "    {\n",
      "        \"S#\": \"04\",\n",
      "        \"C#\": \"01\",\n",
      "        \"score\": 50.0,\n",
      "        \"B.C#\": \"02\",\n",
      "        \"B.score\": 30.0\n",
      "    }\n",
      "]\n"
     ]
    }
   ],
   "source": [
    "execute_sql_cmd(dql_cmd)"
   ]
  },
  {
   "cell_type": "markdown",
   "metadata": {},
   "source": [
    "### Q1.2: Get the S#, C# and score if one student choose both course 01 and course 02"
   ]
  },
  {
   "cell_type": "code",
   "execution_count": 12,
   "metadata": {},
   "outputs": [],
   "source": [
    "dql_cmd = (\n",
    "\"SELECT * FROM \\\n",
    "(SELECT * FROM sql_exercises.SC WHERE `C#`='01') AS A INNER JOIN \\\n",
    "(SELECT * FROM sql_exercises.SC WHERE `C#`='02') AS B ON A.`S#`=B.`S#`;\"\n",
    ")"
   ]
  },
  {
   "cell_type": "code",
   "execution_count": 13,
   "metadata": {},
   "outputs": [
    {
     "name": "stdout",
     "output_type": "stream",
     "text": [
      "[\n",
      "    {\n",
      "        \"S#\": \"01\",\n",
      "        \"C#\": \"01\",\n",
      "        \"score\": 80.0,\n",
      "        \"B.S#\": \"01\",\n",
      "        \"B.C#\": \"02\",\n",
      "        \"B.score\": 90.0\n",
      "    },\n",
      "    {\n",
      "        \"S#\": \"02\",\n",
      "        \"C#\": \"01\",\n",
      "        \"score\": 70.0,\n",
      "        \"B.S#\": \"02\",\n",
      "        \"B.C#\": \"02\",\n",
      "        \"B.score\": 60.0\n",
      "    },\n",
      "    {\n",
      "        \"S#\": \"03\",\n",
      "        \"C#\": \"01\",\n",
      "        \"score\": 80.0,\n",
      "        \"B.S#\": \"03\",\n",
      "        \"B.C#\": \"02\",\n",
      "        \"B.score\": 80.0\n",
      "    },\n",
      "    {\n",
      "        \"S#\": \"04\",\n",
      "        \"C#\": \"01\",\n",
      "        \"score\": 50.0,\n",
      "        \"B.S#\": \"04\",\n",
      "        \"B.C#\": \"02\",\n",
      "        \"B.score\": 30.0\n",
      "    },\n",
      "    {\n",
      "        \"S#\": \"05\",\n",
      "        \"C#\": \"01\",\n",
      "        \"score\": 76.0,\n",
      "        \"B.S#\": \"05\",\n",
      "        \"B.C#\": \"02\",\n",
      "        \"B.score\": 87.0\n",
      "    }\n",
      "]\n"
     ]
    }
   ],
   "source": [
    "execute_sql_cmd(dql_cmd)"
   ]
  },
  {
   "cell_type": "markdown",
   "metadata": {},
   "source": [
    "### Q1.3: Get the S#, C# and score if one student choose course 02 but not course 01"
   ]
  },
  {
   "cell_type": "code",
   "execution_count": 14,
   "metadata": {},
   "outputs": [],
   "source": [
    "dql_cmd = (\n",
    "\"SELECT * FROM sql_exercises.SC WHERE `C#`='02' AND `S#` NOT IN \\\n",
    "(SELECT `S#` FROM sql_exercises.SC WHERE `C#`='01');\"\n",
    ")"
   ]
  },
  {
   "cell_type": "code",
   "execution_count": 15,
   "metadata": {},
   "outputs": [
    {
     "name": "stdout",
     "output_type": "stream",
     "text": [
      "[\n",
      "    {\n",
      "        \"S#\": \"07\",\n",
      "        \"C#\": \"02\",\n",
      "        \"score\": 89.0\n",
      "    }\n",
      "]\n"
     ]
    }
   ],
   "source": [
    "execute_sql_cmd(dql_cmd)"
   ]
  },
  {
   "cell_type": "markdown",
   "metadata": {},
   "source": [
    "### Q2.1: Get the S#, Sname and his/her average course score if one student's average course score is greater than 60"
   ]
  },
  {
   "cell_type": "code",
   "execution_count": 16,
   "metadata": {},
   "outputs": [],
   "source": [
    "dql_cmd = (\n",
    "\" SELECT A.`S#`, B.Sname, A.avgs FROM \\\n",
    "(SELECT `S#`, AVG(score) as avgs FROM sql_exercises.SC GROUP BY `S#`) AS A INNER JOIN \\\n",
    "sql_exercises.Student AS B ON A.`S#`=B.`S#` WHERE A.avgs>60;\"\n",
    ")"
   ]
  },
  {
   "cell_type": "code",
   "execution_count": 17,
   "metadata": {},
   "outputs": [
    {
     "name": "stdout",
     "output_type": "stream",
     "text": [
      "[\n",
      "    {\n",
      "        \"S#\": \"01\",\n",
      "        \"Sname\": \"Rosie Nicholson\",\n",
      "        \"avgs\": 89.66667\n",
      "    },\n",
      "    {\n",
      "        \"S#\": \"02\",\n",
      "        \"Sname\": \"Kyle Cooper\",\n",
      "        \"avgs\": 70.0\n",
      "    },\n",
      "    {\n",
      "        \"S#\": \"03\",\n",
      "        \"Sname\": \"Will Joyner\",\n",
      "        \"avgs\": 80.0\n",
      "    },\n",
      "    {\n",
      "        \"S#\": \"05\",\n",
      "        \"Sname\": \"Ben Barnes\",\n",
      "        \"avgs\": 81.5\n",
      "    },\n",
      "    {\n",
      "        \"S#\": \"07\",\n",
      "        \"Sname\": \"Jackson Burke\",\n",
      "        \"avgs\": 93.5\n",
      "    }\n",
      "]\n"
     ]
    }
   ],
   "source": [
    "execute_sql_cmd(dql_cmd)"
   ]
  },
  {
   "cell_type": "markdown",
   "metadata": {},
   "source": [
    "### Q3.1: Get all information in Student table that S# existed in SC table "
   ]
  },
  {
   "cell_type": "code",
   "execution_count": 18,
   "metadata": {},
   "outputs": [],
   "source": [
    "dql_cmd = (\n",
    "\"SELECT * FROM sql_exercises.Student WHERE `S#` IN \\\n",
    "(SELECT `S#` FROM sql_exercises.SC)\"\n",
    ")"
   ]
  },
  {
   "cell_type": "code",
   "execution_count": 19,
   "metadata": {},
   "outputs": [
    {
     "name": "stdout",
     "output_type": "stream",
     "text": [
      "[\n",
      "    {\n",
      "        \"S#\": \"01\",\n",
      "        \"Sname\": \"Rosie Nicholson\",\n",
      "        \"Sage\": \"1991-11-01\",\n",
      "        \"Ssex\": \"F\"\n",
      "    },\n",
      "    {\n",
      "        \"S#\": \"02\",\n",
      "        \"Sname\": \"Kyle Cooper\",\n",
      "        \"Sage\": \"1993-02-28\",\n",
      "        \"Ssex\": \"M\"\n",
      "    },\n",
      "    {\n",
      "        \"S#\": \"03\",\n",
      "        \"Sname\": \"Will Joyner\",\n",
      "        \"Sage\": \"1991-05-20\",\n",
      "        \"Ssex\": \"M\"\n",
      "    },\n",
      "    {\n",
      "        \"S#\": \"04\",\n",
      "        \"Sname\": \"Warren Mccarthy\",\n",
      "        \"Sage\": \"1992-08-28\",\n",
      "        \"Ssex\": \"M\"\n",
      "    },\n",
      "    {\n",
      "        \"S#\": \"05\",\n",
      "        \"Sname\": \"Ben Barnes\",\n",
      "        \"Sage\": \"1993-12-01\",\n",
      "        \"Ssex\": \"M\"\n",
      "    },\n",
      "    {\n",
      "        \"S#\": \"06\",\n",
      "        \"Sname\": \"Deborah Long\",\n",
      "        \"Sage\": \"1992-03-01\",\n",
      "        \"Ssex\": \"F\"\n",
      "    },\n",
      "    {\n",
      "        \"S#\": \"07\",\n",
      "        \"Sname\": \"Jackson Burke\",\n",
      "        \"Sage\": \"1992-04-11\",\n",
      "        \"Ssex\": \"M\"\n",
      "    }\n",
      "]\n"
     ]
    }
   ],
   "source": [
    "execute_sql_cmd(dql_cmd)"
   ]
  },
  {
   "cell_type": "markdown",
   "metadata": {},
   "source": [
    "### Q4.1: Get all students information with number of courses and total course scores (Null if one student do not choose any courses)"
   ]
  },
  {
   "cell_type": "code",
   "execution_count": 20,
   "metadata": {},
   "outputs": [],
   "source": [
    "dql_cmd = (\n",
    "\"SELECT B.*, A.CourseNumber, A.TotalScore FROM \\\n",
    "(SELECT `S#`, COUNT(`C#`) as CourseNumber, SUM(`score`) as TotalScore FROM sql_exercises.SC GROUP BY `S#`) AS A RIGHT JOIN \\\n",
    "sql_exercises.Student AS B ON A.`S#`=B.`S#`;\"\n",
    ")"
   ]
  },
  {
   "cell_type": "code",
   "execution_count": 21,
   "metadata": {},
   "outputs": [
    {
     "name": "stdout",
     "output_type": "stream",
     "text": [
      "[\n",
      "    {\n",
      "        \"S#\": \"01\",\n",
      "        \"Sname\": \"Rosie Nicholson\",\n",
      "        \"Sage\": \"1991-11-01\",\n",
      "        \"Ssex\": \"F\",\n",
      "        \"CourseNumber\": 3,\n",
      "        \"TotalScore\": 269.0\n",
      "    },\n",
      "    {\n",
      "        \"S#\": \"02\",\n",
      "        \"Sname\": \"Kyle Cooper\",\n",
      "        \"Sage\": \"1993-02-28\",\n",
      "        \"Ssex\": \"M\",\n",
      "        \"CourseNumber\": 3,\n",
      "        \"TotalScore\": 210.0\n",
      "    },\n",
      "    {\n",
      "        \"S#\": \"03\",\n",
      "        \"Sname\": \"Will Joyner\",\n",
      "        \"Sage\": \"1991-05-20\",\n",
      "        \"Ssex\": \"M\",\n",
      "        \"CourseNumber\": 3,\n",
      "        \"TotalScore\": 240.0\n",
      "    },\n",
      "    {\n",
      "        \"S#\": \"04\",\n",
      "        \"Sname\": \"Warren Mccarthy\",\n",
      "        \"Sage\": \"1992-08-28\",\n",
      "        \"Ssex\": \"M\",\n",
      "        \"CourseNumber\": 3,\n",
      "        \"TotalScore\": 100.0\n",
      "    },\n",
      "    {\n",
      "        \"S#\": \"05\",\n",
      "        \"Sname\": \"Ben Barnes\",\n",
      "        \"Sage\": \"1993-12-01\",\n",
      "        \"Ssex\": \"M\",\n",
      "        \"CourseNumber\": 2,\n",
      "        \"TotalScore\": 163.0\n",
      "    },\n",
      "    {\n",
      "        \"S#\": \"06\",\n",
      "        \"Sname\": \"Deborah Long\",\n",
      "        \"Sage\": \"1992-03-01\",\n",
      "        \"Ssex\": \"F\",\n",
      "        \"CourseNumber\": 2,\n",
      "        \"TotalScore\": 65.0\n",
      "    },\n",
      "    {\n",
      "        \"S#\": \"07\",\n",
      "        \"Sname\": \"Jackson Burke\",\n",
      "        \"Sage\": \"1992-04-11\",\n",
      "        \"Ssex\": \"M\",\n",
      "        \"CourseNumber\": 2,\n",
      "        \"TotalScore\": 187.0\n",
      "    },\n",
      "    {\n",
      "        \"S#\": \"08\",\n",
      "        \"Sname\": \"Xander Randall\",\n",
      "        \"Sage\": \"1990-11-13\",\n",
      "        \"Ssex\": \"M\",\n",
      "        \"CourseNumber\": null,\n",
      "        \"TotalScore\": null\n",
      "    }\n",
      "]\n"
     ]
    }
   ],
   "source": [
    "execute_sql_cmd(dql_cmd)"
   ]
  },
  {
   "cell_type": "markdown",
   "metadata": {},
   "source": [
    "### Q4.2: Get all students information with number of courses and total course scores who choose at least one course"
   ]
  },
  {
   "cell_type": "code",
   "execution_count": 22,
   "metadata": {},
   "outputs": [],
   "source": [
    "dql_cmd = (\n",
    "\"SELECT B.*, A.CourseNumber, A.TotalScore FROM \\\n",
    "(SELECT `S#`, COUNT(`C#`) as CourseNumber, SUM(`score`) as TotalScore FROM sql_exercises.SC GROUP BY `S#`) AS A LEFT JOIN \\\n",
    "sql_exercises.Student AS B ON A.`S#`=B.`S#`;\"\n",
    ")"
   ]
  },
  {
   "cell_type": "code",
   "execution_count": 23,
   "metadata": {},
   "outputs": [
    {
     "name": "stdout",
     "output_type": "stream",
     "text": [
      "[\n",
      "    {\n",
      "        \"S#\": \"01\",\n",
      "        \"Sname\": \"Rosie Nicholson\",\n",
      "        \"Sage\": \"1991-11-01\",\n",
      "        \"Ssex\": \"F\",\n",
      "        \"CourseNumber\": 3,\n",
      "        \"TotalScore\": 269.0\n",
      "    },\n",
      "    {\n",
      "        \"S#\": \"02\",\n",
      "        \"Sname\": \"Kyle Cooper\",\n",
      "        \"Sage\": \"1993-02-28\",\n",
      "        \"Ssex\": \"M\",\n",
      "        \"CourseNumber\": 3,\n",
      "        \"TotalScore\": 210.0\n",
      "    },\n",
      "    {\n",
      "        \"S#\": \"03\",\n",
      "        \"Sname\": \"Will Joyner\",\n",
      "        \"Sage\": \"1991-05-20\",\n",
      "        \"Ssex\": \"M\",\n",
      "        \"CourseNumber\": 3,\n",
      "        \"TotalScore\": 240.0\n",
      "    },\n",
      "    {\n",
      "        \"S#\": \"04\",\n",
      "        \"Sname\": \"Warren Mccarthy\",\n",
      "        \"Sage\": \"1992-08-28\",\n",
      "        \"Ssex\": \"M\",\n",
      "        \"CourseNumber\": 3,\n",
      "        \"TotalScore\": 100.0\n",
      "    },\n",
      "    {\n",
      "        \"S#\": \"05\",\n",
      "        \"Sname\": \"Ben Barnes\",\n",
      "        \"Sage\": \"1993-12-01\",\n",
      "        \"Ssex\": \"M\",\n",
      "        \"CourseNumber\": 2,\n",
      "        \"TotalScore\": 163.0\n",
      "    },\n",
      "    {\n",
      "        \"S#\": \"06\",\n",
      "        \"Sname\": \"Deborah Long\",\n",
      "        \"Sage\": \"1992-03-01\",\n",
      "        \"Ssex\": \"F\",\n",
      "        \"CourseNumber\": 2,\n",
      "        \"TotalScore\": 65.0\n",
      "    },\n",
      "    {\n",
      "        \"S#\": \"07\",\n",
      "        \"Sname\": \"Jackson Burke\",\n",
      "        \"Sage\": \"1992-04-11\",\n",
      "        \"Ssex\": \"M\",\n",
      "        \"CourseNumber\": 2,\n",
      "        \"TotalScore\": 187.0\n",
      "    }\n",
      "]\n"
     ]
    }
   ],
   "source": [
    "execute_sql_cmd(dql_cmd)"
   ]
  },
  {
   "cell_type": "markdown",
   "metadata": {},
   "source": [
    "### Q5.1: Get Teacher information who's name contain 'Landau'"
   ]
  },
  {
   "cell_type": "code",
   "execution_count": 24,
   "metadata": {},
   "outputs": [],
   "source": [
    "dql_cmd = (\n",
    "\"SELECT * FROM sql_exercises.Teacher WHERE Tname LIKE '%Landau%';\"\n",
    ")"
   ]
  },
  {
   "cell_type": "code",
   "execution_count": 25,
   "metadata": {},
   "outputs": [
    {
     "name": "stdout",
     "output_type": "stream",
     "text": [
      "[\n",
      "    {\n",
      "        \"T#\": \"01\",\n",
      "        \"Tname\": \"Lev Landau\"\n",
      "    }\n",
      "]\n"
     ]
    }
   ],
   "source": [
    "execute_sql_cmd(dql_cmd)"
   ]
  },
  {
   "cell_type": "markdown",
   "metadata": {},
   "source": [
    "### Q6.1: Get the student information who has take course from Teacher 'Richard Feynman'"
   ]
  },
  {
   "cell_type": "code",
   "execution_count": 26,
   "metadata": {},
   "outputs": [],
   "source": [
    "dql_cmd = (\n",
    "\"SELECT * FROM sql_exercises.Student WHERE `S#` IN \\\n",
    "(SELECT DISTINCT `S#` FROM sql_exercises.SC WHERE `C#` IN \\\n",
    "(SELECT `C#` FROM sql_exercises.Course WHERE `T#` IN \\\n",
    "(SELECT `T#` FROM sql_exercises.Teacher WHERE Tname='Richard Feynman')));\"\n",
    ")"
   ]
  },
  {
   "cell_type": "code",
   "execution_count": 27,
   "metadata": {},
   "outputs": [
    {
     "name": "stdout",
     "output_type": "stream",
     "text": [
      "[\n",
      "    {\n",
      "        \"S#\": \"01\",\n",
      "        \"Sname\": \"Rosie Nicholson\",\n",
      "        \"Sage\": \"1991-11-01\",\n",
      "        \"Ssex\": \"F\"\n",
      "    },\n",
      "    {\n",
      "        \"S#\": \"02\",\n",
      "        \"Sname\": \"Kyle Cooper\",\n",
      "        \"Sage\": \"1993-02-28\",\n",
      "        \"Ssex\": \"M\"\n",
      "    },\n",
      "    {\n",
      "        \"S#\": \"03\",\n",
      "        \"Sname\": \"Will Joyner\",\n",
      "        \"Sage\": \"1991-05-20\",\n",
      "        \"Ssex\": \"M\"\n",
      "    },\n",
      "    {\n",
      "        \"S#\": \"04\",\n",
      "        \"Sname\": \"Warren Mccarthy\",\n",
      "        \"Sage\": \"1992-08-28\",\n",
      "        \"Ssex\": \"M\"\n",
      "    },\n",
      "    {\n",
      "        \"S#\": \"05\",\n",
      "        \"Sname\": \"Ben Barnes\",\n",
      "        \"Sage\": \"1993-12-01\",\n",
      "        \"Ssex\": \"M\"\n",
      "    },\n",
      "    {\n",
      "        \"S#\": \"06\",\n",
      "        \"Sname\": \"Deborah Long\",\n",
      "        \"Sage\": \"1992-03-01\",\n",
      "        \"Ssex\": \"F\"\n",
      "    }\n",
      "]\n"
     ]
    }
   ],
   "source": [
    "execute_sql_cmd(dql_cmd)"
   ]
  },
  {
   "cell_type": "markdown",
   "metadata": {},
   "source": [
    "### Q7.1: Get student information who not take all three courses"
   ]
  },
  {
   "cell_type": "code",
   "execution_count": 28,
   "metadata": {},
   "outputs": [],
   "source": [
    "dql_cmd = (\n",
    "\"SELECT * FROM sql_exercises.Student WHERE `S#` IN \\\n",
    "(SELECT `S#` FROM sql_exercises.SC GROUP BY `S#` HAVING COUNT(`C#`)<3);\"\n",
    ")"
   ]
  },
  {
   "cell_type": "code",
   "execution_count": 29,
   "metadata": {},
   "outputs": [
    {
     "name": "stdout",
     "output_type": "stream",
     "text": [
      "[\n",
      "    {\n",
      "        \"S#\": \"05\",\n",
      "        \"Sname\": \"Ben Barnes\",\n",
      "        \"Sage\": \"1993-12-01\",\n",
      "        \"Ssex\": \"M\"\n",
      "    },\n",
      "    {\n",
      "        \"S#\": \"06\",\n",
      "        \"Sname\": \"Deborah Long\",\n",
      "        \"Sage\": \"1992-03-01\",\n",
      "        \"Ssex\": \"F\"\n",
      "    },\n",
      "    {\n",
      "        \"S#\": \"07\",\n",
      "        \"Sname\": \"Jackson Burke\",\n",
      "        \"Sage\": \"1992-04-11\",\n",
      "        \"Ssex\": \"M\"\n",
      "    }\n",
      "]\n"
     ]
    }
   ],
   "source": [
    "execute_sql_cmd(dql_cmd)"
   ]
  },
  {
   "cell_type": "markdown",
   "metadata": {},
   "source": [
    "### Q8.1: Get student information who take at least one course that same as student with S# 01"
   ]
  },
  {
   "cell_type": "code",
   "execution_count": 30,
   "metadata": {},
   "outputs": [],
   "source": [
    "dql_cmd = (\n",
    "\"SELECT * FROM sql_exercises.Student WHERE `S#` IN \\\n",
    "(SELECT DISTINCT `S#` FROM sql_exercises.SC WHERE `C#` IN \\\n",
    "(SELECT `C#` FROM sql_exercises.SC WHERE `S#`='01'));\"\n",
    ")"
   ]
  },
  {
   "cell_type": "code",
   "execution_count": 31,
   "metadata": {},
   "outputs": [
    {
     "name": "stdout",
     "output_type": "stream",
     "text": [
      "[\n",
      "    {\n",
      "        \"S#\": \"01\",\n",
      "        \"Sname\": \"Rosie Nicholson\",\n",
      "        \"Sage\": \"1991-11-01\",\n",
      "        \"Ssex\": \"F\"\n",
      "    },\n",
      "    {\n",
      "        \"S#\": \"02\",\n",
      "        \"Sname\": \"Kyle Cooper\",\n",
      "        \"Sage\": \"1993-02-28\",\n",
      "        \"Ssex\": \"M\"\n",
      "    },\n",
      "    {\n",
      "        \"S#\": \"03\",\n",
      "        \"Sname\": \"Will Joyner\",\n",
      "        \"Sage\": \"1991-05-20\",\n",
      "        \"Ssex\": \"M\"\n",
      "    },\n",
      "    {\n",
      "        \"S#\": \"04\",\n",
      "        \"Sname\": \"Warren Mccarthy\",\n",
      "        \"Sage\": \"1992-08-28\",\n",
      "        \"Ssex\": \"M\"\n",
      "    },\n",
      "    {\n",
      "        \"S#\": \"05\",\n",
      "        \"Sname\": \"Ben Barnes\",\n",
      "        \"Sage\": \"1993-12-01\",\n",
      "        \"Ssex\": \"M\"\n",
      "    },\n",
      "    {\n",
      "        \"S#\": \"06\",\n",
      "        \"Sname\": \"Deborah Long\",\n",
      "        \"Sage\": \"1992-03-01\",\n",
      "        \"Ssex\": \"F\"\n",
      "    },\n",
      "    {\n",
      "        \"S#\": \"07\",\n",
      "        \"Sname\": \"Jackson Burke\",\n",
      "        \"Sage\": \"1992-04-11\",\n",
      "        \"Ssex\": \"M\"\n",
      "    }\n",
      "]\n"
     ]
    }
   ],
   "source": [
    "execute_sql_cmd(dql_cmd)"
   ]
  },
  {
   "cell_type": "markdown",
   "metadata": {},
   "source": [
    "### Q9.1: Get the student information who take completely same courses as student with S# 01"
   ]
  },
  {
   "cell_type": "code",
   "execution_count": 32,
   "metadata": {},
   "outputs": [],
   "source": [
    "dql_cmd = (\n",
    "\"SELECT * FROM sql_exercises.Student WHERE `S#` IN \\\n",
    "(SELECT A.`S#` FROM \\\n",
    "(SELECT `S#`, GROUP_CONCAT(`C#` ORDER BY `C#` ASC) AS OCs FROM sql_exercises.SC GROUP BY `S#`) AS A INNER JOIN \\\n",
    "(SELECT `S#`, GROUP_CONCAT(`C#` ORDER BY `C#` ASC) AS OCs FROM sql_exercises.SC GROUP BY `S#` HAVING `S#`='01') AS B \\\n",
    "ON A.OCs=B.OCs);\"\n",
    ")"
   ]
  },
  {
   "cell_type": "code",
   "execution_count": 33,
   "metadata": {
    "scrolled": true
   },
   "outputs": [
    {
     "name": "stdout",
     "output_type": "stream",
     "text": [
      "[\n",
      "    {\n",
      "        \"S#\": \"04\",\n",
      "        \"Sname\": \"Warren Mccarthy\",\n",
      "        \"Sage\": \"1992-08-28\",\n",
      "        \"Ssex\": \"M\"\n",
      "    },\n",
      "    {\n",
      "        \"S#\": \"03\",\n",
      "        \"Sname\": \"Will Joyner\",\n",
      "        \"Sage\": \"1991-05-20\",\n",
      "        \"Ssex\": \"M\"\n",
      "    },\n",
      "    {\n",
      "        \"S#\": \"02\",\n",
      "        \"Sname\": \"Kyle Cooper\",\n",
      "        \"Sage\": \"1993-02-28\",\n",
      "        \"Ssex\": \"M\"\n",
      "    },\n",
      "    {\n",
      "        \"S#\": \"01\",\n",
      "        \"Sname\": \"Rosie Nicholson\",\n",
      "        \"Sage\": \"1991-11-01\",\n",
      "        \"Ssex\": \"F\"\n",
      "    }\n",
      "]\n"
     ]
    }
   ],
   "source": [
    "execute_sql_cmd(dql_cmd)"
   ]
  },
  {
   "cell_type": "markdown",
   "metadata": {},
   "source": [
    "### Q10.1: Get the student name (Sname) who have not take course from teacher 'Lev Landau'"
   ]
  },
  {
   "cell_type": "code",
   "execution_count": 34,
   "metadata": {},
   "outputs": [],
   "source": [
    "dql_cmd = (\n",
    "\"SELECT Sname FROM sql_exercises.Student WHERE `S#` NOT IN \\\n",
    "(SELECT `S#` FROM sql_exercises.SC WHERE `C#` IN \\\n",
    "(SELECT `C#` FROM sql_exercises.Course WHERE `T#` IN \\\n",
    "(SELECT `T#` FROM sql_exercises.Teacher WHERE `Tname`='Lev Landau')));\"\n",
    ")"
   ]
  },
  {
   "cell_type": "code",
   "execution_count": 35,
   "metadata": {},
   "outputs": [
    {
     "name": "stdout",
     "output_type": "stream",
     "text": [
      "[\n",
      "    {\n",
      "        \"Sname\": \"Deborah Long\"\n",
      "    },\n",
      "    {\n",
      "        \"Sname\": \"Xander Randall\"\n",
      "    }\n",
      "]\n"
     ]
    }
   ],
   "source": [
    "execute_sql_cmd(dql_cmd)"
   ]
  },
  {
   "cell_type": "markdown",
   "metadata": {},
   "source": [
    "### End of file\n",
    "More information: https://blog.csdn.net/flycat296/article/details/63681089"
   ]
  }
 ],
 "metadata": {
  "kernelspec": {
   "display_name": "Python 3",
   "language": "python",
   "name": "python3"
  },
  "language_info": {
   "codemirror_mode": {
    "name": "ipython",
    "version": 3
   },
   "file_extension": ".py",
   "mimetype": "text/x-python",
   "name": "python",
   "nbconvert_exporter": "python",
   "pygments_lexer": "ipython3",
   "version": "3.6.9"
  }
 },
 "nbformat": 4,
 "nbformat_minor": 4
}
